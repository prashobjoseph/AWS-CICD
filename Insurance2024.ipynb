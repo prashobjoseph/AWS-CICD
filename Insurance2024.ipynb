{
	"metadata": {
		"kernelspec": {
			"name": "glue_pyspark",
			"display_name": "Glue PySpark",
			"language": "python"
		},
		"language_info": {
			"name": "Python_Glue_Session",
			"mimetype": "text/x-python",
			"codemirror_mode": {
				"name": "python",
				"version": 3
			},
			"pygments_lexer": "python3",
			"file_extension": ".py"
		}
	},
	"nbformat_minor": 4,
	"nbformat": 4,
	"cells": [
		{
			"cell_type": "markdown",
			"source": "# AWS Glue Studio Notebook\n##### You are now running a AWS Glue Studio notebook; To start using your notebook you need to start an AWS Glue Interactive Session.\n",
			"metadata": {
				"editable": true,
				"trusted": true
			}
		},
		{
			"cell_type": "markdown",
			"source": "#### Optional: Run this cell to see available notebook commands (\"magics\").\n",
			"metadata": {
				"editable": true,
				"trusted": true
			}
		},
		{
			"cell_type": "code",
			"source": "%help",
			"metadata": {
				"trusted": true,
				"editable": true
			},
			"execution_count": null,
			"outputs": []
		},
		{
			"cell_type": "markdown",
			"source": "####  Run this cell to set up and start your interactive session.\n",
			"metadata": {
				"editable": true,
				"trusted": true
			}
		},
		{
			"cell_type": "code",
			"source": "%idle_timeout 2880\n%glue_version 4.0\n%worker_type G.1X\n%number_of_workers 5\n",
			"metadata": {
				"trusted": true,
				"editable": true
			},
			"execution_count": 5,
			"outputs": [
				{
					"name": "stdout",
					"text": "Welcome to the Glue Interactive Sessions Kernel\nFor more information on available magic commands, please type %help in any new cell.\n\nPlease view our Getting Started page to access the most up-to-date information on the Interactive Sessions kernel: https://docs.aws.amazon.com/glue/latest/dg/interactive-sessions.html\nInstalled kernel version: 1.0.7 \nCurrent idle_timeout is None minutes.\nidle_timeout has been set to 2880 minutes.\nSetting Glue version to: 4.0\nPrevious worker type: None\nSetting new worker type to: G.1X\nPrevious number of workers: None\nSetting new number of workers to: 5\n",
					"output_type": "stream"
				}
			]
		},
		{
			"cell_type": "code",
			"source": "import sys\nfrom awsglue.transforms import *\nfrom awsglue.utils import getResolvedOptions\nfrom pyspark.context import SparkContext\nfrom awsglue.context import GlueContext\nfrom awsglue.job import Job\n  \nsc = SparkContext.getOrCreate()\nglueContext = GlueContext(sc)\nspark = glueContext.spark_session\njob = Job(glueContext)\n\n# Check if terminate_session method exists before calling it\nif hasattr(glueContext, 'terminate_session'):\n    glueContext.terminate_session()",
			"metadata": {
				"trusted": true,
				"tags": []
			},
			"execution_count": 1,
			"outputs": [
				{
					"name": "stdout",
					"text": "Trying to create a Glue session for the kernel.\nSession Type: glueetl\nWorker Type: G.1X\nNumber of Workers: 5\nIdle Timeout: 2880\nSession ID: 18527fa6-7111-460f-afd2-cf79c8a06163\nApplying the following default arguments:\n--glue_kernel_version 1.0.7\n--enable-glue-datacatalog true\nWaiting for session 18527fa6-7111-460f-afd2-cf79c8a06163 to get into ready status...\nSession 18527fa6-7111-460f-afd2-cf79c8a06163 has been created.\n\n",
					"output_type": "stream"
				}
			]
		},
		{
			"cell_type": "markdown",
			"source": "#### Example: Create a DynamicFrame from a table in the AWS Glue Data Catalog and display its schema\n",
			"metadata": {
				"editable": true,
				"trusted": true
			}
		},
		{
			"cell_type": "code",
			"source": "dyf = glueContext.create_dynamic_frame.from_catalog(database='testdbjul2024', table_name='insurance_csv')\ndyf.printSchema()",
			"metadata": {
				"trusted": true,
				"editable": true
			},
			"execution_count": 2,
			"outputs": [
				{
					"name": "stdout",
					"text": "root\n|-- patient_id: string\n|-- insurance_company: string\n|-- policy_number: string\n|-- coverage_amount: double\n|-- insurance_cost: double\n",
					"output_type": "stream"
				}
			]
		},
		{
			"cell_type": "markdown",
			"source": "#### Example: Convert the DynamicFrame to a Spark DataFrame and display a sample of the data\n",
			"metadata": {
				"editable": true,
				"trusted": true
			}
		},
		{
			"cell_type": "code",
			"source": "df = dyf.toDF()\ndf.show()\ndf.count()",
			"metadata": {
				"trusted": true,
				"editable": true
			},
			"execution_count": 4,
			"outputs": [
				{
					"name": "stdout",
					"text": "+----------+-----------------+-------------+---------------+--------------+\n|patient_id|insurance_company|policy_number|coverage_amount|insurance_cost|\n+----------+-----------------+-------------+---------------+--------------+\n|     P0002| UnitedHealthcare|      aB04270|       10537.14|       5475.54|\n|     P0003|            Aetna|      lc97160|       12755.05|       2746.27|\n|     P0004|            Aetna|      ep06455|       25838.15|       6669.42|\n|     P0005|       Blue Cross|      Wi27285|        43530.0|       6751.31|\n|     P0006|Kaiser Permanente|      QX30416|       24558.51|       7501.82|\n|     P0007|            Aetna|      ef92039|       46144.34|       7930.02|\n|     P0008|Kaiser Permanente|      Qj02474|       14153.59|       1258.01|\n|     P0009|       Blue Cross|      pF45404|       48381.47|       4665.04|\n|     P0010|            Cigna|      oa45220|       48414.56|       2971.87|\n|     P0011|       Blue Cross|      FD86064|       23933.08|       9643.23|\n|     P0012|       Blue Cross|      rT62510|       20605.81|        7840.6|\n|     P0013|Kaiser Permanente|      yy35955|        28814.2|       6933.92|\n|     P0014|            Aetna|      yP46617|       31544.14|        7223.5|\n|     P0015| UnitedHealthcare|      VD63433|        25220.1|       4218.19|\n|     P0016|       Blue Cross|      qF12446|       12145.15|       4801.42|\n|     P0017| UnitedHealthcare|      Vz85917|       37269.64|        3556.0|\n|     P0018|       Blue Cross|      ot55156|       19615.56|       4821.19|\n|     P0019| UnitedHealthcare|      Ht90177|       37904.54|       7276.75|\n|     P0020| UnitedHealthcare|      Hn88338|       40440.86|       8128.86|\n|     P0021|       Blue Cross|      rF92691|       32521.19|       3619.46|\n+----------+-----------------+-------------+---------------+--------------+\nonly showing top 20 rows\n\n999\n",
					"output_type": "stream"
				}
			]
		},
		{
			"cell_type": "markdown",
			"source": "#### Example: Visualize data with matplotlib\n",
			"metadata": {
				"editable": true,
				"trusted": true
			}
		},
		{
			"cell_type": "code",
			"source": "transformed_df = df.select(\"patient_id\", \"insurance_company\", \"policy_number\", \"coverage_amount\")\ntransformed_df.show()\ntransformed_df.count()",
			"metadata": {
				"trusted": true,
				"editable": true
			},
			"execution_count": 5,
			"outputs": [
				{
					"name": "stdout",
					"text": "+----------+-----------------+-------------+---------------+\n|patient_id|insurance_company|policy_number|coverage_amount|\n+----------+-----------------+-------------+---------------+\n|     P0002| UnitedHealthcare|      aB04270|       10537.14|\n|     P0003|            Aetna|      lc97160|       12755.05|\n|     P0004|            Aetna|      ep06455|       25838.15|\n|     P0005|       Blue Cross|      Wi27285|        43530.0|\n|     P0006|Kaiser Permanente|      QX30416|       24558.51|\n|     P0007|            Aetna|      ef92039|       46144.34|\n|     P0008|Kaiser Permanente|      Qj02474|       14153.59|\n|     P0009|       Blue Cross|      pF45404|       48381.47|\n|     P0010|            Cigna|      oa45220|       48414.56|\n|     P0011|       Blue Cross|      FD86064|       23933.08|\n|     P0012|       Blue Cross|      rT62510|       20605.81|\n|     P0013|Kaiser Permanente|      yy35955|        28814.2|\n|     P0014|            Aetna|      yP46617|       31544.14|\n|     P0015| UnitedHealthcare|      VD63433|        25220.1|\n|     P0016|       Blue Cross|      qF12446|       12145.15|\n|     P0017| UnitedHealthcare|      Vz85917|       37269.64|\n|     P0018|       Blue Cross|      ot55156|       19615.56|\n|     P0019| UnitedHealthcare|      Ht90177|       37904.54|\n|     P0020| UnitedHealthcare|      Hn88338|       40440.86|\n|     P0021|       Blue Cross|      rF92691|       32521.19|\n+----------+-----------------+-------------+---------------+\nonly showing top 20 rows\n\n999\n",
					"output_type": "stream"
				}
			]
		},
		{
			"cell_type": "markdown",
			"source": "#### Example: Write the data in the DynamicFrame to a location in Amazon S3 and a table for it in the AWS Glue Data Catalog\n",
			"metadata": {
				"editable": true,
				"trusted": true
			}
		},
		{
			"cell_type": "code",
			"source": "columns_to_check = [\"patient_id\", \"insurance_company\", \"policy_number\", \"coverage_amount\"]\ndata_frame_no_duplicates = transformed_df.dropDuplicates(columns_to_check)\ndata_frame_no_duplicates.show()\ndata_frame_no_duplicates.count()",
			"metadata": {
				"trusted": true,
				"editable": true
			},
			"execution_count": 7,
			"outputs": [
				{
					"name": "stdout",
					"text": "+----------+-----------------+-------------+---------------+\n|patient_id|insurance_company|policy_number|coverage_amount|\n+----------+-----------------+-------------+---------------+\n|     P0007|            Aetna|      ef92039|       46144.34|\n|     P0017| UnitedHealthcare|      Vz85917|       37269.64|\n|     P0020| UnitedHealthcare|      Hn88338|       40440.86|\n|     P0027|            Cigna|      AZ13346|       31841.38|\n|     P0032| UnitedHealthcare|      eu52783|       29794.73|\n|     P0036| UnitedHealthcare|      qT68353|       38696.46|\n|     P0041| UnitedHealthcare|      cc77511|       10453.15|\n|     P0043|       Blue Cross|      jj70926|       44721.77|\n|     P0045|Kaiser Permanente|      Aq93468|        22609.3|\n|     P0047|Kaiser Permanente|      pj74267|       42698.72|\n|     P0059|            Cigna|      IJ01882|       20651.86|\n|     P0060|Kaiser Permanente|      xd12437|       32768.39|\n|     P0062|            Aetna|      xn10311|       41593.65|\n|     P0064|            Aetna|      Es91895|       34035.91|\n|     P0067|            Cigna|      Rk40114|       22437.05|\n|     P0108|Kaiser Permanente|      gK89796|       44249.23|\n|     P0121|       Blue Cross|      oT22719|       21277.14|\n|     P0168| UnitedHealthcare|      gY70027|       14116.17|\n|     P0176|            Cigna|      qe77001|       21428.87|\n|     P0183|            Aetna|      dU93832|        40038.8|\n+----------+-----------------+-------------+---------------+\nonly showing top 20 rows\n\n999\n",
					"output_type": "stream"
				}
			]
		},
		{
			"cell_type": "code",
			"source": "# Remove rows with null values in any column\ndf_no_nulls = data_frame_no_duplicates.na.drop()\ndf_no_nulls.show()\ndf_no_nulls.count()",
			"metadata": {
				"trusted": true,
				"tags": []
			},
			"execution_count": 8,
			"outputs": [
				{
					"name": "stdout",
					"text": "+----------+-----------------+-------------+---------------+\n|patient_id|insurance_company|policy_number|coverage_amount|\n+----------+-----------------+-------------+---------------+\n|     P0007|            Aetna|      ef92039|       46144.34|\n|     P0017| UnitedHealthcare|      Vz85917|       37269.64|\n|     P0020| UnitedHealthcare|      Hn88338|       40440.86|\n|     P0027|            Cigna|      AZ13346|       31841.38|\n|     P0032| UnitedHealthcare|      eu52783|       29794.73|\n|     P0036| UnitedHealthcare|      qT68353|       38696.46|\n|     P0041| UnitedHealthcare|      cc77511|       10453.15|\n|     P0043|       Blue Cross|      jj70926|       44721.77|\n|     P0045|Kaiser Permanente|      Aq93468|        22609.3|\n|     P0047|Kaiser Permanente|      pj74267|       42698.72|\n|     P0059|            Cigna|      IJ01882|       20651.86|\n|     P0060|Kaiser Permanente|      xd12437|       32768.39|\n|     P0062|            Aetna|      xn10311|       41593.65|\n|     P0064|            Aetna|      Es91895|       34035.91|\n|     P0067|            Cigna|      Rk40114|       22437.05|\n|     P0108|Kaiser Permanente|      gK89796|       44249.23|\n|     P0121|       Blue Cross|      oT22719|       21277.14|\n|     P0168| UnitedHealthcare|      gY70027|       14116.17|\n|     P0176|            Cigna|      qe77001|       21428.87|\n|     P0183|            Aetna|      dU93832|        40038.8|\n+----------+-----------------+-------------+---------------+\nonly showing top 20 rows\n\n999\n",
					"output_type": "stream"
				}
			]
		},
		{
			"cell_type": "code",
			"source": "from awsglue.dynamicframe import DynamicFrame\n\n# Convert DataFrame to DynamicFrame\ndynamic_frame = DynamicFrame.fromDF(df_no_nulls, glueContext, \"dynamic_frame\")\n\ntry:\n    # Write the DynamicFrame to an S3 bucket\n    glueContext.write_dynamic_frame.from_options(\n        frame=dynamic_frame,\n        connection_type=\"s3\",\n        connection_options={\"path\": \"s3://bdjul2024/Processed/\"},\n        format=\"parquet\"  # Specify the format, can be 'json', 'csv', 'parquet', etc.\n    )\n    print(\"Write to S3 succeeded.\")\nexcept Exception as e:\n    print(f\"Error: {str(e)}\")\n    # Print the contents of the DynamicFrame for debugging\n    dynamic_frame.printSchema()\n    dynamic_frame.show()\n",
			"metadata": {
				"trusted": true,
				"tags": []
			},
			"execution_count": 9,
			"outputs": [
				{
					"name": "stdout",
					"text": "<awsglue.dynamicframe.DynamicFrame object at 0x7f2b42efcf10>\nWrite to S3 succeeded.\n",
					"output_type": "stream"
				}
			]
		},
		{
			"cell_type": "code",
			"source": "",
			"metadata": {},
			"execution_count": null,
			"outputs": []
		}
	]
}